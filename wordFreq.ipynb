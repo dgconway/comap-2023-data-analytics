{
 "cells": [
  {
   "cell_type": "code",
   "execution_count": 7,
   "metadata": {},
   "outputs": [],
   "source": [
    "import pandas as pd\n",
    "from wordfreq import zipf_frequency\n",
    "\n",
    "df = pd.read_csv(\"ContainsDatasetDrop529.csv\")\n",
    "\n",
    "# zipf_frequency('the', 'en')\n",
    "# df['Word'][0]\n",
    "# df['NewWordProb'] = zipf_frequency(df[\"Word\"], 'en')\n",
    "df[\"NewWordProb\"] = [zipf_frequency(x, 'en') for x in df['Word']]\n",
    "df.to_csv(\"newWordProbability.csv\")"
   ]
  },
  {
   "cell_type": "code",
   "execution_count": 27,
   "metadata": {},
   "outputs": [
    {
     "data": {
      "text/plain": [
       "3.5"
      ]
     },
     "execution_count": 27,
     "metadata": {},
     "output_type": "execute_result"
    }
   ],
   "source": [
    "zipf_frequency(\"manny\", 'en')"
   ]
  },
  {
   "cell_type": "code",
   "execution_count": 58,
   "metadata": {},
   "outputs": [
    {
     "name": "stdout",
     "output_type": "stream",
     "text": [
      "[['manly', 6], ['molar', 6], ['havoc', 1], ['impel', 0], ['condo', 11], ['judge', 8], ['extra', 0], ['poise', 6], ['aorta', 5], ['excel', 1], ['lunar', 2], ['third', 0], ['slate', 9], ['taper', 12], ['chord', 3], ['probe', 5], ['rival', 2], ['usual', 0], ['spoke', 6], ['apply', 3], ['naive', 2], ['knock', 2], ['braid', 2], ['infer', 5], ['joust', 3], ['amber', 4], ['woken', 5], ['adore', 5], ['torso', 1], ['chafe', 4], ['eject', 2], ['undue', 0], ['tepid', 0], ['happy', 8], ['clean', 6], ['itchy', 0], ['feast', 4], ['drive', 1], ['prime', 8], ['axiom', 1], ['brave', 8], ['avert', 4], ['glyph', 0], ['there', 6], ['baker', 17], ['snarl', 3], ['maple', 3], ['inane', 0], ['valet', 2], ['medal', 4], ['unite', 3], ['rainy', 4], ['spell', 8], ['begin', 5], ['stale', 18], ['dream', 3], ['photo', 2], ['aloud', 1], ['inept', 1], ['piney', 6], ['aptly', 1], ['waltz', 1], ['libel', 3], ['sneak', 3], ['carry', 15], ['flout', 4], ['foggy', 3], ['fault', 5], ['mummy', 8], ['spiel', 4], ['grove', 10], ['denim', 2], ['quirk', 3], ['exist', 0], ['stein', 7], ['spade', 7], ['catch', 8], ['floor', 4], ['equal', 0], ['ionic', 4], ['valid', 2], ['enjoy', 1], ['howdy', 4], ['vigor', 3], ['dandy', 17], ['sloth', 4], ['marsh', 4], ['bough', 8], ['sting', 9], ['twine', 6], ['leave', 5], ['scorn', 4], ['scald', 5], ['usurp', 1], ['soggy', 5], ['brisk', 3], ['admit', 1], ['grate', 12], ['glory', 2], ['saint', 7], ['recap', 1], ['alike', 3], ['trice', 12], ['stick', 6], ['chute', 1], ['parer', 12], ['doubt', 0], ['thyme', 4], ['alpha', 1], ['booze', 3], ['tibia', 0], ['lofty', 3], ['theme', 8], ['class', 13], ['leery', 2], ['taunt', 5], ['whoop', 2], ['inter', 8], ['gully', 9], ['charm', 10], ['fungi', 0], ['prize', 4], ['onset', 2], ['chief', 3], ['gauze', 2], ['ruder', 7], ['irony', 3], ['clown', 3], ['needy', 7], ['woven', 4], ['merit', 1], ['waste', 6], ['treat', 4], ['shrug', 1], ['twang', 6], ['twice', 2], ['gruel', 2], ['poker', 9], ['khaki', 2], ['hunky', 8], ['label', 7], ['glean', 4], ['cling', 11], ['patty', 17], ['unfit', 1], ['smear', 3], ['alien', 4], ['buggy', 6], ['rhyme', 1], ['youth', 4], ['coyly', 1], ['quart', 2], ['cramp', 5], ['bluff', 1], ['upset', 0], ['stomp', 4], ['motto', 7], ['cinch', 7], ['elope', 1], ['power', 12], ['midge', 4], ['tryst', 3], ['aphid', 1], ['trite', 7], ['angry', 1], ['flock', 7], ['wacky', 5], ['roomy', 2], ['wedge', 3], ['liver', 15], ['bland', 10], ['night', 13], ['madam', 2], ['berth', 8], ['stead', 5], ['voice', 2], ['agape', 2], ['fluff', 1], ['field', 4], ['sever', 10], ['lilac', 1], ['egret', 0], ['pinto', 7], ['hutch', 9], ['gawky', 0], ['droll', 5], ['retro', 4], ['rusty', 6], ['beady', 6], ['smite', 7], ['brink', 8], ['awful', 0], ['gloat', 3], ['input', 0], ['loser', 8], ['cacao', 1], ['blown', 4], ['apron', 5], ['primo', 3], ['atone', 2], ['donor', 4], ['float', 3], ['goose', 11], ['piety', 2], ['girth', 5], ['trait', 4], ['flood', 3], ['gloom', 2], ['depth', 2], ['froth', 7], ['peach', 7], ['showy', 4], ['creak', 8], ['manor', 8], ['atoll', 1], ['bayou', 0], ['crept', 4], ['tiara', 3], ['asset', 5], ['vouch', 3], ['album', 1], ['hinge', 5], ['money', 12], ['scrap', 3], ['gamer', 9], ['glass', 7], ['scour', 3], ['being', 3], ['delve', 1], ['yield', 3], ['metal', 4], ['tipsy', 3], ['slung', 7], ['farce', 3], ['gecko', 1], ['shine', 17], ['canny', 10], ['midst', 1], ['badge', 3], ['homer', 11], ['train', 8], ['hairy', 4], ['story', 4], ['forgo', 3], ['larva', 1], ['trash', 5], ['zesty', 1], ['shown', 5], ['heist', 4], ['askew', 2], ['inert', 1], ['olive', 5], ['plant', 8], ['oxide', 0], ['cargo', 5], ['foyer', 7], ['flair', 3], ['ample', 3], ['cheek', 5], ['shame', 12], ['mince', 5], ['chunk', 6], ['royal', 2], ['squad', 3], ['black', 8], ['stair', 4], ['scare', 11], ['foray', 3], ['comma', 6], ['natal', 6], ['shawl', 3], ['fewer', 5], ['trope', 5], ['snout', 5], ['lowly', 2], ['stove', 8], ['shall', 9], ['found', 9], ['nymph', 1], ['epoxy', 0], ['depot', 0], ['chest', 4], ['purge', 5], ['slosh', 4], ['their', 3], ['renew', 1], ['allow', 4], ['saute', 4], ['movie', 4], ['cater', 14], ['tease', 6], ['smelt', 2], ['focus', 4], ['today', 2], ['watch', 8], ['lapse', 1], ['month', 5], ['sweet', 8], ['hoard', 4], ['cloth', 2], ['brine', 11], ['ahead', 1], ['mourn', 2], ['nasty', 4], ['rupee', 0], ['choke', 6], ['chant', 5], ['spill', 8], ['vivid', 2], ['bloke', 4], ['trove', 6], ['thorn', 3], ['other', 4], ['tacit', 0], ['swill', 8], ['dodge', 5], ['shake', 13], ['caulk', 2], ['aroma', 2], ['cynic', 1], ['robin', 8], ['ultra', 0], ['ulcer', 1], ['pause', 5], ['humor', 2], ['frame', 2], ['elder', 8], ['skill', 5], ['aloft', 0], ['pleat', 4], ['shard', 8], ['moist', 4], ['those', 5], ['light', 12], ['wrung', 4], ['could', 4], ['perky', 8], ['mount', 4], ['whack', 2], ['sugar', 2], ['knoll', 3], ['crimp', 5], ['wince', 4], ['prick', 7], ['robot', 0], ['point', 3], ['proxy', 0], ['shire', 12], ['solar', 9], ['panic', 3], ['tangy', 6], ['abbey', 1], ['favor', 1], ['drink', 4], ['query', 0], ['gorge', 5], ['crank', 9], ['slump', 5]]\n"
     ]
    }
   ],
   "source": [
    "letters = [\"a\", \"b\", \"c\", \"d\", \"e\", \"f\", \"g\", \"h\", \"i\", \"j\", \"k\", \"l\", \"m\", \"n\", \"o\", \"p\", \"q\", \"r\", \"s\", \"t\", \"u\", \"v\", \"w\", \"x\", \"y\", \"z\", \"ï\"]\n",
    "\n",
    "# firstWord = df['Word'][0]\n",
    "\n",
    "frequent_words = []\n",
    "\n",
    "for firstWord in df['Word']:\n",
    "    # thisWordFreq = zipf_frequency(firstWord, 'en')\n",
    "    numSimWords = 0\n",
    "    for i in range(len(firstWord)):\n",
    "        for let in letters: \n",
    "            if (let!=firstWord[i]):\n",
    "                freq = zipf_frequency(firstWord[:i] + let + firstWord[i+1:], 'en')\n",
    "                if (freq >= 2):\n",
    "                    numSimWords += 1\n",
    "    # if (numSimWords >= 2):\n",
    "    frequent_words.append([firstWord, numSimWords])\n",
    "print(frequent_words)"
   ]
  },
  {
   "cell_type": "code",
   "execution_count": 59,
   "metadata": {},
   "outputs": [],
   "source": [
    "commonWords = pd.DataFrame(frequent_words)\n",
    "commonWords.to_csv(\"commonSimilarWords.csv\")"
   ]
  }
 ],
 "metadata": {
  "kernelspec": {
   "display_name": "Python 3",
   "language": "python",
   "name": "python3"
  },
  "language_info": {
   "codemirror_mode": {
    "name": "ipython",
    "version": 3
   },
   "file_extension": ".py",
   "mimetype": "text/x-python",
   "name": "python",
   "nbconvert_exporter": "python",
   "pygments_lexer": "ipython3",
   "version": "3.7.10"
  },
  "orig_nbformat": 4,
  "vscode": {
   "interpreter": {
    "hash": "6f818f16ed6ebf4b42947218c57d6f28d3a7c2ea05c96f8feccb455e1985e89a"
   }
  }
 },
 "nbformat": 4,
 "nbformat_minor": 2
}
